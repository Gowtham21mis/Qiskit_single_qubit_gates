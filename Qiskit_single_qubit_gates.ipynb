{
  "cells": [
    {
      "cell_type": "code",
      "execution_count": 1,
      "metadata": {
        "id": "Mx6284lurNt1"
      },
      "outputs": [
        {
          "name": "stdout",
          "output_type": "stream",
          "text": [
            "Requirement already satisfied: qiskit in c:\\users\\k madhumitha\\appdata\\local\\programs\\python\\python313\\lib\\site-packages (2.2.1)\n",
            "Requirement already satisfied: qiskit-aer in c:\\users\\k madhumitha\\appdata\\local\\programs\\python\\python313\\lib\\site-packages (0.17.2)\n",
            "Requirement already satisfied: rustworkx>=0.15.0 in c:\\users\\k madhumitha\\appdata\\local\\programs\\python\\python313\\lib\\site-packages (from qiskit) (0.17.1)\n",
            "Requirement already satisfied: numpy<3,>=1.17 in c:\\users\\k madhumitha\\appdata\\local\\programs\\python\\python313\\lib\\site-packages (from qiskit) (2.3.1)\n",
            "Requirement already satisfied: scipy>=1.5 in c:\\users\\k madhumitha\\appdata\\local\\programs\\python\\python313\\lib\\site-packages (from qiskit) (1.16.1)\n",
            "Requirement already satisfied: dill>=0.3 in c:\\users\\k madhumitha\\appdata\\local\\programs\\python\\python313\\lib\\site-packages (from qiskit) (0.4.0)\n",
            "Requirement already satisfied: stevedore>=3.0.0 in c:\\users\\k madhumitha\\appdata\\local\\programs\\python\\python313\\lib\\site-packages (from qiskit) (5.5.0)\n",
            "Requirement already satisfied: typing-extensions in c:\\users\\k madhumitha\\appdata\\local\\programs\\python\\python313\\lib\\site-packages (from qiskit) (4.14.1)\n",
            "Requirement already satisfied: psutil>=5 in c:\\users\\k madhumitha\\appdata\\local\\programs\\python\\python313\\lib\\site-packages (from qiskit-aer) (7.1.0)\n",
            "Requirement already satisfied: python-dateutil>=2.8.0 in c:\\users\\k madhumitha\\appdata\\local\\programs\\python\\python313\\lib\\site-packages (from qiskit-aer) (2.9.0.post0)\n",
            "Requirement already satisfied: six>=1.5 in c:\\users\\k madhumitha\\appdata\\local\\programs\\python\\python313\\lib\\site-packages (from python-dateutil>=2.8.0->qiskit-aer) (1.17.0)\n"
          ]
        }
      ],
      "source": [
        "!pip install qiskit qiskit-aer --upgrade"
      ]
    },
    {
      "cell_type": "code",
      "execution_count": 2,
      "metadata": {
        "id": "VPOwLacGrCdU"
      },
      "outputs": [
        {
          "name": "stdout",
          "output_type": "stream",
          "text": [
            "Quantum Circuit:\n",
            "        ┌───┐┌───┐┌───┐┌───┐┌─────────┐ ░ ┌─┐\n",
            "     q: ┤ X ├┤ H ├┤ S ├┤ T ├┤ Rz(0.5) ├─░─┤M├\n",
            "        └───┘└───┘└───┘└───┘└─────────┘ ░ └╥┘\n",
            "   c: 1/═══════════════════════════════════╬═\n",
            "                                           ║ \n",
            "meas: 1/═══════════════════════════════════╩═\n",
            "                                           0 \n",
            "\n",
            "Measurement Counts: {'0 0': 534, '1 0': 490}\n"
          ]
        }
      ],
      "source": [
        "from qiskit import QuantumCircuit, transpile\n",
        "from qiskit_aer import AerSimulator\n",
        "\n",
        "# Initialize simulator\n",
        "sim = AerSimulator()\n",
        "\n",
        "# Create a single-qubit circuit with one classical bit\n",
        "qc = QuantumCircuit(1, 1)\n",
        "\n",
        "# --- Apply sequence of single-qubit gates ---\n",
        "qc.x(0)        # Pauli-X (NOT gate)\n",
        "qc.h(0)        # Hadamard (superposition)\n",
        "qc.s(0)        # Phase gate (π/2)\n",
        "qc.t(0)        # T gate (π/4)\n",
        "qc.rz(0.5, 0)  # Z-axis rotation by 0.5 radians\n",
        "\n",
        "# Measure final state\n",
        "qc.measure_all()\n",
        "\n",
        "# Display circuit\n",
        "print(\"Quantum Circuit:\")\n",
        "print(qc.draw())\n",
        "\n",
        "# --- Run simulation ---\n",
        "compiled = transpile(qc, sim)\n",
        "result = sim.run(compiled, shots=1024).result()\n",
        "\n",
        "# --- Display results ---\n",
        "counts = result.get_counts()\n",
        "print(\"\\nMeasurement Counts:\", counts)\n"
      ]
    },
    {
      "cell_type": "markdown",
      "metadata": {},
      "source": [
        "Task 1: Change Gate Order"
      ]
    },
    {
      "cell_type": "code",
      "execution_count": 3,
      "metadata": {},
      "outputs": [
        {
          "name": "stdout",
          "output_type": "stream",
          "text": [
            "Measurement Counts with swapped X and H: {'1 0': 491, '0 0': 533}\n"
          ]
        }
      ],
      "source": [
        "from qiskit import QuantumCircuit, transpile\n",
        "from qiskit_aer import AerSimulator\n",
        "from qiskit.visualization import plot_histogram\n",
        "import matplotlib.pyplot as plt\n",
        "\n",
        "sim = AerSimulator()\n",
        "qc_task1 = QuantumCircuit(1, 1)\n",
        "\n",
        "# Swapped order: H then X\n",
        "qc_task1.h(0)  # Hadamard first\n",
        "qc_task1.x(0)  # Pauli-X second\n",
        "qc_task1.s(0)  # Phase gate\n",
        "qc_task1.t(0)  # T gate\n",
        "qc_task1.rz(0.5, 0)  # RZ rotation\n",
        "\n",
        "qc_task1.measure_all()\n",
        "\n",
        "compiled = transpile(qc_task1, sim)\n",
        "result = sim.run(compiled, shots=1024).result()\n",
        "counts = result.get_counts()\n",
        "print(\"Measurement Counts with swapped X and H:\", counts)\n",
        "plot_histogram(counts)\n",
        "plt.show()"
      ]
    },
    {
      "cell_type": "markdown",
      "metadata": {},
      "source": [
        "Task 2: Vary Rotation Angle"
      ]
    },
    {
      "cell_type": "code",
      "execution_count": 4,
      "metadata": {},
      "outputs": [
        {
          "name": "stdout",
          "output_type": "stream",
          "text": [
            "Measurement counts for RZ angle 0.7853981633974483 radians: {'1 0': 495, '0 0': 529}\n",
            "Measurement counts for RZ angle 1.5707963267948966 radians: {'1 0': 502, '0 0': 522}\n",
            "Measurement counts for RZ angle 3.141592653589793 radians: {'0 0': 502, '1 0': 522}\n"
          ]
        }
      ],
      "source": [
        "import numpy as np\n",
        "\n",
        "angles = [np.pi/4, np.pi/2, np.pi]\n",
        "\n",
        "for angle in angles:\n",
        "    qc = QuantumCircuit(1,1)\n",
        "    qc.x(0)\n",
        "    qc.h(0)\n",
        "    qc.s(0)\n",
        "    qc.t(0)\n",
        "    qc.rz(angle, 0)\n",
        "    qc.measure_all()\n",
        "\n",
        "    compiled = transpile(qc, sim)\n",
        "    result = sim.run(compiled, shots=1024).result()\n",
        "    counts = result.get_counts()\n",
        "    print(f\"Measurement counts for RZ angle {angle} radians:\", counts)\n",
        "    plot_histogram(counts)\n",
        "    plt.show()"
      ]
    },
    {
      "cell_type": "markdown",
      "metadata": {},
      "source": [
        "Task 3: Remove a Gate"
      ]
    },
    {
      "cell_type": "code",
      "execution_count": 5,
      "metadata": {},
      "outputs": [
        {
          "name": "stdout",
          "output_type": "stream",
          "text": [
            "Measurement counts without Hadamard: {'1 0': 1024}\n"
          ]
        }
      ],
      "source": [
        "qc_task3 = QuantumCircuit(1,1)\n",
        "\n",
        "# Removed Hadamard gate\n",
        "qc_task3.x(0)\n",
        "qc_task3.s(0)\n",
        "qc_task3.t(0)\n",
        "qc_task3.rz(0.5, 0)\n",
        "qc_task3.measure_all()\n",
        "\n",
        "compiled = transpile(qc_task3, sim)\n",
        "result = sim.run(compiled, shots=1024).result()\n",
        "counts = result.get_counts()\n",
        "print(\"Measurement counts without Hadamard:\", counts)\n",
        "plot_histogram(counts)\n",
        "plt.show()\n"
      ]
    },
    {
      "cell_type": "code",
      "execution_count": 8,
      "metadata": {},
      "outputs": [
        {
          "name": "stdout",
          "output_type": "stream",
          "text": [
            "        ┌───┐┌───┐┌───┐┌───┐┌───────┐ ░ ┌─┐\n",
            "     q: ┤ X ├┤ H ├┤ S ├┤ T ├┤ Rz(π) ├─░─┤M├\n",
            "        └───┘└───┘└───┘└───┘└───────┘ ░ └╥┘\n",
            "   c: 1/═════════════════════════════════╬═\n",
            "                                         ║ \n",
            "meas: 1/═════════════════════════════════╩═\n",
            "                                         0 \n",
            "Measurement Counts: {'1 0': 1024}\n"
          ]
        }
      ],
      "source": [
        "print(qc.draw())\n",
        "print(\"Measurement Counts:\", counts)\n",
        "from qiskit.visualization import plot_histogram\n",
        "plot_histogram(counts)\n",
        "plt.show()"
      ]
    }
  ],
  "metadata": {
    "colab": {
      "provenance": []
    },
    "kernelspec": {
      "display_name": "Python 3",
      "name": "python3"
    },
    "language_info": {
      "codemirror_mode": {
        "name": "ipython",
        "version": 3
      },
      "file_extension": ".py",
      "mimetype": "text/x-python",
      "name": "python",
      "nbconvert_exporter": "python",
      "pygments_lexer": "ipython3",
      "version": "3.13.5"
    }
  },
  "nbformat": 4,
  "nbformat_minor": 0
}
